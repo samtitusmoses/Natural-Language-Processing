{
  "nbformat": 4,
  "nbformat_minor": 0,
  "metadata": {
    "colab": {
      "provenance": []
    },
    "kernelspec": {
      "name": "python3",
      "display_name": "Python 3"
    },
    "language_info": {
      "name": "python"
    }
  },
  "cells": [
    {
      "cell_type": "code",
      "execution_count": 16,
      "metadata": {
        "id": "g0CekQ_zVRGm"
      },
      "outputs": [],
      "source": [
        "import nltk\n",
        "#nltk.download(\"all\")  # To download all nltk packages\n",
        "from nltk import word_tokenize, wordpunct_tokenize,pos_tag"
      ]
    },
    {
      "cell_type": "markdown",
      "source": [
        "**Tokenization**"
      ],
      "metadata": {
        "id": "AiSgTwFgXMPh"
      }
    },
    {
      "cell_type": "code",
      "source": [
        "a=\"! My name is Sam!!\"\n",
        "\n",
        "word_tokenize(a)"
      ],
      "metadata": {
        "colab": {
          "base_uri": "https://localhost:8080/"
        },
        "id": "lnYgUgCwVT9t",
        "outputId": "f8d0a02d-782a-4f89-8e7a-1b9dbb12b22f"
      },
      "execution_count": 17,
      "outputs": [
        {
          "output_type": "execute_result",
          "data": {
            "text/plain": [
              "['!', 'My', 'name', 'is', 'Sam', '!', '!']"
            ]
          },
          "metadata": {},
          "execution_count": 17
        }
      ]
    },
    {
      "cell_type": "code",
      "source": [
        "wordpunct_tokenize(a)"
      ],
      "metadata": {
        "colab": {
          "base_uri": "https://localhost:8080/"
        },
        "id": "F6swcf-0VYiJ",
        "outputId": "e9fd01cd-1346-4345-a1df-45ac1feb4419"
      },
      "execution_count": 18,
      "outputs": [
        {
          "output_type": "execute_result",
          "data": {
            "text/plain": [
              "['!', 'My', 'name', 'is', 'Sam', '!!']"
            ]
          },
          "metadata": {},
          "execution_count": 18
        }
      ]
    },
    {
      "cell_type": "markdown",
      "source": [
        "**POS Tag**"
      ],
      "metadata": {
        "id": "wvzRrLGjXY8H"
      }
    },
    {
      "cell_type": "code",
      "source": [
        "# With word tokenize\n",
        "pos_tag(word_tokenize(a))"
      ],
      "metadata": {
        "colab": {
          "base_uri": "https://localhost:8080/"
        },
        "id": "dgB-rILiXhla",
        "outputId": "72289cda-24e3-4444-cbba-5d05b46f7d87"
      },
      "execution_count": 22,
      "outputs": [
        {
          "output_type": "execute_result",
          "data": {
            "text/plain": [
              "[('!', '.'),\n",
              " ('My', 'PRP$'),\n",
              " ('name', 'NN'),\n",
              " ('is', 'VBZ'),\n",
              " ('Sam', 'NNP'),\n",
              " ('!', '.'),\n",
              " ('!', '.')]"
            ]
          },
          "metadata": {},
          "execution_count": 22
        }
      ]
    },
    {
      "cell_type": "code",
      "source": [
        "# With wordpunct tokenize\n",
        "pos_tag(wordpunct_tokenize(a))"
      ],
      "metadata": {
        "colab": {
          "base_uri": "https://localhost:8080/"
        },
        "id": "ddRPgNFKXj5K",
        "outputId": "65348bad-5f04-491b-82e2-f6953ea2c1bf"
      },
      "execution_count": 23,
      "outputs": [
        {
          "output_type": "execute_result",
          "data": {
            "text/plain": [
              "[('!', '.'),\n",
              " ('My', 'PRP$'),\n",
              " ('name', 'NN'),\n",
              " ('is', 'VBZ'),\n",
              " ('Sam', 'NNP'),\n",
              " ('!!', 'NNP')]"
            ]
          },
          "metadata": {},
          "execution_count": 23
        }
      ]
    },
    {
      "cell_type": "markdown",
      "source": [
        "**Punctuation**"
      ],
      "metadata": {
        "id": "LHBoLQOkYkLt"
      }
    },
    {
      "cell_type": "code",
      "source": [
        "from string import punctuation\n",
        "\n",
        "print(len(punctuation))\n",
        "print(punctuation)"
      ],
      "metadata": {
        "colab": {
          "base_uri": "https://localhost:8080/"
        },
        "id": "3FHx-BPKYcr4",
        "outputId": "30fdf8de-b5a7-4d48-f5b5-b6ca7fc63187"
      },
      "execution_count": 24,
      "outputs": [
        {
          "output_type": "stream",
          "name": "stdout",
          "text": [
            "32\n",
            "!\"#$%&'()*+,-./:;<=>?@[\\]^_`{|}~\n"
          ]
        }
      ]
    },
    {
      "cell_type": "code",
      "source": [
        "# Remove Punctuation\n",
        "\n",
        "print(a)\n",
        "\n",
        "sent=\"\"\n",
        "\n",
        "for word in word_tokenize(a):\n",
        "    if word in punctuation:\n",
        "        continue\n",
        "    else:\n",
        "        sent+=\" \"+word\n",
        "sent=sent.strip()\n",
        "\n",
        "sent"
      ],
      "metadata": {
        "colab": {
          "base_uri": "https://localhost:8080/",
          "height": 53
        },
        "id": "uSChTBh7Yomg",
        "outputId": "74839b03-7682-4ad2-99df-76b9fa5ada2d"
      },
      "execution_count": 25,
      "outputs": [
        {
          "output_type": "stream",
          "name": "stdout",
          "text": [
            "! My name is Sam!!\n"
          ]
        },
        {
          "output_type": "execute_result",
          "data": {
            "text/plain": [
              "'My name is Sam'"
            ],
            "application/vnd.google.colaboratory.intrinsic+json": {
              "type": "string"
            }
          },
          "metadata": {},
          "execution_count": 25
        }
      ]
    },
    {
      "cell_type": "markdown",
      "source": [
        "**Corpus--> Collection of words**"
      ],
      "metadata": {
        "id": "VX3Z5KY0Yuds"
      }
    },
    {
      "cell_type": "markdown",
      "source": [
        "**STOPWORDS**"
      ],
      "metadata": {
        "id": "fkF0ARh1YydO"
      }
    },
    {
      "cell_type": "code",
      "source": [
        "from nltk.corpus import stopwords\n",
        "\n",
        "all_stopwords={}\n",
        "all_stopwords=set(stopwords.words('english'))\n",
        "\n",
        "print(len(all_stopwords))\n",
        "print(all_stopwords)"
      ],
      "metadata": {
        "colab": {
          "base_uri": "https://localhost:8080/"
        },
        "id": "DnNn1dPTY2_2",
        "outputId": "5e4ceca4-00c4-43d4-b0fd-507ceba261f9"
      },
      "execution_count": 27,
      "outputs": [
        {
          "output_type": "stream",
          "name": "stdout",
          "text": [
            "179\n",
            "{'their', 'own', 'aren', 'these', 'same', 'before', 'here', 'how', \"shouldn't\", 'myself', 'just', 'an', 'are', \"hadn't\", 'on', 'all', 'it', \"wasn't\", \"weren't\", 'between', 'some', 'as', 'at', 'they', 'over', \"you've\", 'doing', 'if', 'hers', \"you'll\", 'wasn', 'while', 'off', 'your', 'then', 're', 'the', \"haven't\", 'he', 'a', 'few', 'or', 'once', 't', 'she', 've', 'most', 'doesn', 'we', 'yourselves', \"aren't\", 'ain', 'that', 'after', 'don', 'o', 'were', 'do', 'from', 'in', \"it's\", 'does', 'itself', 'through', 'those', 'during', 'so', 'hasn', 'about', 'to', 'you', \"isn't\", 'no', \"shan't\", 'her', 'both', 'have', \"couldn't\", 'why', 'me', 'this', 'will', 'is', 'didn', 'did', \"wouldn't\", 'there', 'into', 'mightn', 'ourselves', 'yourself', 'being', 'our', 'his', \"doesn't\", 'below', 'for', 'only', \"needn't\", 'theirs', 'any', 'such', 'been', 'mustn', 'until', 'am', 'down', 'under', 'should', \"hasn't\", 'when', \"that'll\", 'each', 'further', 'up', 'out', 'not', 'its', 'my', 'needn', 'hadn', 'm', \"you'd\", 'herself', 'them', 'more', 'too', 'him', 'but', 'by', \"won't\", \"you're\", 'whom', 'was', 'against', 'has', 'll', 'ma', 'now', 'shouldn', 'nor', 'which', 'of', 'couldn', 'weren', 'isn', 'won', 'shan', 'ours', 'what', 'very', \"don't\", 'himself', 'who', \"should've\", 'd', 'haven', 'again', 's', \"mustn't\", 'yours', 'themselves', \"she's\", 'other', 'and', 'can', 'i', 'y', 'where', 'because', 'with', \"didn't\", \"mightn't\", 'above', 'having', 'wouldn', 'than', 'had', 'be'}\n"
          ]
        }
      ]
    },
    {
      "cell_type": "markdown",
      "source": [
        "**Removing Stopwords in a sentance**"
      ],
      "metadata": {
        "id": "zhpekAghZHgb"
      }
    },
    {
      "cell_type": "code",
      "source": [
        "print(sent)\n",
        "\n",
        "new_sent=\"\"\n",
        "\n",
        "for word in word_tokenize(sent):\n",
        "    if word in all_stopwords:\n",
        "        continue\n",
        "    else:\n",
        "        new_sent+=\" \"+word\n",
        "\n",
        "new_sent=new_sent.strip()\n",
        "print(new_sent)"
      ],
      "metadata": {
        "colab": {
          "base_uri": "https://localhost:8080/"
        },
        "id": "0Xmz5E4lY80v",
        "outputId": "61d8c734-95bc-4726-c9b2-211acf5682a6"
      },
      "execution_count": 29,
      "outputs": [
        {
          "output_type": "stream",
          "name": "stdout",
          "text": [
            "My name is Sam\n",
            "My name Sam\n"
          ]
        }
      ]
    },
    {
      "cell_type": "markdown",
      "source": [
        "**NGRAM**"
      ],
      "metadata": {
        "id": "BQK0yGaWZSzr"
      }
    },
    {
      "cell_type": "code",
      "source": [
        "from nltk import ngrams\n",
        "s=sent.split()\n",
        "print(s)\n",
        "\n",
        "print(\"NGRAMS---(Bigrams)\")\n",
        "ng=ngrams(s,2)\n",
        "for i in ng:\n",
        "    print(i)"
      ],
      "metadata": {
        "colab": {
          "base_uri": "https://localhost:8080/"
        },
        "id": "vOiqQP0KZGpO",
        "outputId": "575ab4da-5e9c-4c51-b77b-a3eea2c79608"
      },
      "execution_count": 33,
      "outputs": [
        {
          "output_type": "stream",
          "name": "stdout",
          "text": [
            "['My', 'name', 'is', 'Sam']\n",
            "NGRAMS---(Bigrams)\n",
            "('My', 'name')\n",
            "('name', 'is')\n",
            "('is', 'Sam')\n"
          ]
        }
      ]
    },
    {
      "cell_type": "markdown",
      "source": [
        "**STEMMING**"
      ],
      "metadata": {
        "id": "ldZfRfWuaEzp"
      }
    },
    {
      "cell_type": "code",
      "source": [
        "from nltk.stem import SnowballStemmer\n",
        "\n",
        "obj=SnowballStemmer('english')\n",
        "obj.stem('leaving')"
      ],
      "metadata": {
        "colab": {
          "base_uri": "https://localhost:8080/",
          "height": 35
        },
        "id": "rfYGVmwtZWNF",
        "outputId": "987b548a-b9db-4c3d-d665-112cccf77a8c"
      },
      "execution_count": 34,
      "outputs": [
        {
          "output_type": "execute_result",
          "data": {
            "text/plain": [
              "'leav'"
            ],
            "application/vnd.google.colaboratory.intrinsic+json": {
              "type": "string"
            }
          },
          "metadata": {},
          "execution_count": 34
        }
      ]
    },
    {
      "cell_type": "markdown",
      "source": [
        "**LEMMATIZATION**"
      ],
      "metadata": {
        "id": "RQdvM-fpagGY"
      }
    },
    {
      "cell_type": "code",
      "source": [
        "from nltk.stem.wordnet import WordNetLemmatizer\n",
        "obj=WordNetLemmatizer()\n",
        "obj.lemmatize(\"studied\",pos='v')"
      ],
      "metadata": {
        "colab": {
          "base_uri": "https://localhost:8080/",
          "height": 35
        },
        "id": "OdIRrUvyaccz",
        "outputId": "dcbd4b8b-e6b2-4229-f2c8-c08d0a6c8989"
      },
      "execution_count": 38,
      "outputs": [
        {
          "output_type": "execute_result",
          "data": {
            "text/plain": [
              "'study'"
            ],
            "application/vnd.google.colaboratory.intrinsic+json": {
              "type": "string"
            }
          },
          "metadata": {},
          "execution_count": 38
        }
      ]
    },
    {
      "cell_type": "code",
      "source": [
        "obj.lemmatize(\"leaving\",pos='v')"
      ],
      "metadata": {
        "colab": {
          "base_uri": "https://localhost:8080/",
          "height": 35
        },
        "id": "p39zaH3ua1C6",
        "outputId": "15a4afdd-df34-4b57-99fd-3a813fdc8c5b"
      },
      "execution_count": 40,
      "outputs": [
        {
          "output_type": "execute_result",
          "data": {
            "text/plain": [
              "'leave'"
            ],
            "application/vnd.google.colaboratory.intrinsic+json": {
              "type": "string"
            }
          },
          "metadata": {},
          "execution_count": 40
        }
      ]
    },
    {
      "cell_type": "markdown",
      "source": [
        "**Getting people names from sentences**"
      ],
      "metadata": {
        "id": "sKADUyQlbU6n"
      }
    },
    {
      "cell_type": "code",
      "source": [
        "def people_names_in_txt(txt):\n",
        "  people_names=[]\n",
        "  token=word_tokenize(txt)\n",
        "  sent_set=set(w for w in token if w.isalpha())\n",
        "  male_name=nltk.corpus.names.words('male.txt')\n",
        "  female_name=nltk.corpus.names.words('female.txt')\n",
        "  for w in sent_set:\n",
        "    if w in male_name or w in female_name:\n",
        "      people_names.append(w)\n",
        "  return people_names\n",
        "\n",
        "\n",
        "sent=\"My name is Sam\"\n",
        "people_names_in_txt(sent)\n",
        "\n"
      ],
      "metadata": {
        "colab": {
          "base_uri": "https://localhost:8080/"
        },
        "id": "7juVvLxeba-M",
        "outputId": "e81a64a2-6a30-4a29-c24b-8a86e911a5b8"
      },
      "execution_count": 48,
      "outputs": [
        {
          "output_type": "execute_result",
          "data": {
            "text/plain": [
              "['Sam']"
            ]
          },
          "metadata": {},
          "execution_count": 48
        }
      ]
    },
    {
      "cell_type": "code",
      "source": [],
      "metadata": {
        "id": "Lsnxo8TKcvFW"
      },
      "execution_count": null,
      "outputs": []
    }
  ]
}