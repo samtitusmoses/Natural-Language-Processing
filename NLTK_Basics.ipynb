{
 "cells": [
  {
   "cell_type": "code",
   "execution_count": 6,
   "id": "d57413ce",
   "metadata": {},
   "outputs": [
    {
     "name": "stdout",
     "output_type": "stream",
     "text": [
      "['My', 'name', 'is', 'XYZ']\n"
     ]
    }
   ],
   "source": [
    "import nltk \n",
    "from nltk import word_tokenize,wordpunct_tokenize,pos_tag\n",
    "\n",
    "sent1=\"My name is XYZ\"\n",
    "\n",
    "token_sent=word_tokenize(sent1)\n",
    "print(token_sent)"
   ]
  },
  {
   "cell_type": "code",
   "execution_count": 8,
   "id": "f6299eca",
   "metadata": {},
   "outputs": [
    {
     "name": "stdout",
     "output_type": "stream",
     "text": [
      "[('My', 'PRP$'), ('name', 'NN'), ('is', 'VBZ'), ('XYZ', 'JJ')]\n"
     ]
    }
   ],
   "source": [
    "pos_tag_list=pos_tag(token_sent)\n",
    "print(pos_tag_list)"
   ]
  },
  {
   "cell_type": "code",
   "execution_count": null,
   "id": "5e80a1fd",
   "metadata": {},
   "outputs": [],
   "source": []
  }
 ],
 "metadata": {
  "kernelspec": {
   "display_name": "Python 3 (ipykernel)",
   "language": "python",
   "name": "python3"
  },
  "language_info": {
   "codemirror_mode": {
    "name": "ipython",
    "version": 3
   },
   "file_extension": ".py",
   "mimetype": "text/x-python",
   "name": "python",
   "nbconvert_exporter": "python",
   "pygments_lexer": "ipython3",
   "version": "3.9.13"
  }
 },
 "nbformat": 4,
 "nbformat_minor": 5
}
